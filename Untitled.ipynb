{
 "cells": [
  {
   "cell_type": "code",
   "execution_count": null,
   "id": "e6315db1-afad-458d-9bb1-4e85f3a0922c",
   "metadata": {},
   "outputs": [],
   "source": [
    "import pandas as pd \n",
    "import matplotlib.pyplot as plt\n",
    "from sklearn.metrics.pairwise import euclidean_distances\n",
    "from sklearn.neighbors import KNeighborsClassifier\n",
    "a = pd.read_csv('a.csv')\n",
    "b=a.copy(deep=True)\n",
    "x=['name','album','release_date','id','uri','duration_ms','release_date']\n",
    "matrix = euclidean_distances(b.drop(x,axis=1)) \n",
    "k=3 \n",
    "knn= KNeighborsClassifier(n_neighbors=k)\n",
    "knn.fit(b.drop(x,axis=1),b['name'])\n",
    "def fn(name, b, matrix, k=3 ):\n",
    "  try:\n",
    "    target_song_index = b[b['name'] == name].index.tolist()\n",
    "  except KeyError:\n",
    "    print(f\"Song '{name}' not found in data.\")\n",
    "    return []\n",
    "\n",
    "  if not target_song_index:\n",
    "    return []\n",
    "\n",
    "  nearest_neighbors = matrix[target_song_index[0]].argsort()[1:k+1]  \n",
    "\n",
    "  # Extract recommended song names from the data\n",
    "  recommended_songs = b.loc[nearest_neighbors, 'name'].tolist()\n",
    "\n",
    "  return recommended_songs\n",
    "while True:\n",
    "  # Prompt for song name\n",
    "  target_song_name = input(\"song name likho  \")\n",
    "\n",
    "  # Get recommendations\n",
    "  recommendations = fn(target_song_name, b, matrix)\n",
    "\n",
    "  # Print recommendations (even if empty)\n",
    "  print(f\"ye rha song ab GM '{target_song_name}':\")\n",
    "  for song in recommendations:\n",
    "    print(song)"
   ]
  },
  {
   "cell_type": "code",
   "execution_count": null,
   "id": "50ee6995-df53-4eac-9310-05b8f5b245dd",
   "metadata": {},
   "outputs": [],
   "source": []
  },
  {
   "cell_type": "code",
   "execution_count": null,
   "id": "d9591d31-586e-4b14-b621-0760123f5a59",
   "metadata": {},
   "outputs": [],
   "source": []
  },
  {
   "cell_type": "code",
   "execution_count": null,
   "id": "3c091621-fc1f-4be1-bc0b-8e99baea3ff7",
   "metadata": {},
   "outputs": [],
   "source": []
  },
  {
   "cell_type": "code",
   "execution_count": null,
   "id": "ccfb21dd-e229-415d-9bbb-65b0594415d6",
   "metadata": {},
   "outputs": [],
   "source": []
  },
  {
   "cell_type": "code",
   "execution_count": null,
   "id": "484edd69-975f-4828-842f-733cb033d5e8",
   "metadata": {},
   "outputs": [],
   "source": []
  },
  {
   "cell_type": "code",
   "execution_count": null,
   "id": "db8c9ed8-29ec-4632-94ee-071a551927f2",
   "metadata": {},
   "outputs": [],
   "source": []
  }
 ],
 "metadata": {
  "kernelspec": {
   "display_name": "Python 3 (ipykernel)",
   "language": "python",
   "name": "python3"
  },
  "language_info": {
   "codemirror_mode": {
    "name": "ipython",
    "version": 3
   },
   "file_extension": ".py",
   "mimetype": "text/x-python",
   "name": "python",
   "nbconvert_exporter": "python",
   "pygments_lexer": "ipython3",
   "version": "3.11.7"
  }
 },
 "nbformat": 4,
 "nbformat_minor": 5
}
